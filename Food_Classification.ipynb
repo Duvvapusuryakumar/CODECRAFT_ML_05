{
 "cells": [
  {
   "cell_type": "code",
   "execution_count": 1,
   "metadata": {},
   "outputs": [],
   "source": [
    "import os\n",
    "import numpy as np\n",
    "import pandas as pd\n",
    "from tensorflow.keras.preprocessing.image import load_img, img_to_array\n",
    "from tensorflow.keras.models import Sequential\n",
    "from tensorflow.keras.layers import Dense, GlobalAveragePooling2D\n",
    "from tensorflow.keras.applications import VGG16\n",
    "from tensorflow.keras.optimizers import Adam\n",
    "from tensorflow.keras.utils import to_categorical\n",
    "from sklearn.model_selection import train_test_split\n",
    "import tensorflow as tf\n",
    "import shutil"
   ]
  },
  {
   "cell_type": "code",
   "execution_count": 2,
   "metadata": {},
   "outputs": [],
   "source": [
    "# Load the CSV file containing food information\n",
    "csv_path = \"C:/Users/Surya/Downloads/CODECRAFT_ML_05/indian_food.csv\"\n",
    "data = pd.read_csv(csv_path)\n"
   ]
  },
  {
   "cell_type": "code",
   "execution_count": 3,
   "metadata": {},
   "outputs": [
    {
     "name": "stdout",
     "output_type": "stream",
     "text": [
      "Index(['name', 'ingredients', 'diet', 'prep_time', 'cook_time',\n",
      "       'flavor_profile', 'course', 'state', 'region'],\n",
      "      dtype='object')\n"
     ]
    }
   ],
   "source": [
    "# Check the columns to find the correct ones for image paths and labels\n",
    "print(data.columns)  # Make sure to inspect the columns"
   ]
  },
  {
   "cell_type": "code",
   "execution_count": 4,
   "metadata": {},
   "outputs": [],
   "source": [
    "# We will now assume that the image paths are stored in the directory \n",
    "# structure and the labels are \"food\" and \"non_food\".\n",
    "\n",
    "# Define the directory paths for training, validation, and evaluation\n",
    "base_dir = \"C:/Users/Surya/Downloads/CODECRAFT_ML_05/archive (3)/\"\n"
   ]
  },
  {
   "cell_type": "code",
   "execution_count": 5,
   "metadata": {},
   "outputs": [],
   "source": [
    "train_dir = os.path.join(base_dir, \"training\")\n",
    "val_dir = os.path.join(base_dir, \"validation\")\n",
    "eval_dir = os.path.join(base_dir, \"evaluation\")"
   ]
  },
  {
   "cell_type": "code",
   "execution_count": 6,
   "metadata": {},
   "outputs": [],
   "source": [
    "# Image preprocessing function\n",
    "def preprocess_image(image_path, target_size=(224, 224)):\n",
    "    img = load_img(image_path, target_size=target_size)  # Load image with target size\n",
    "    img_array = img_to_array(img)  # Convert image to numpy array\n",
    "    return img_array / 255.0  # Normalize the image to [0, 1] range"
   ]
  },
  {
   "cell_type": "code",
   "execution_count": 7,
   "metadata": {},
   "outputs": [],
   "source": [
    "def prepare_dataset(directory):\n",
    "    images = []\n",
    "    labels = []\n",
    "    \n",
    "    # Loop through the 'food' and 'non_food' directories\n",
    "    for label in ['food', 'non_food']:\n",
    "        label_dir = os.path.join(directory, label)\n",
    "        \n",
    "        # Loop through each image file in the directory\n",
    "        for img_name in os.listdir(label_dir):\n",
    "            img_path = os.path.join(label_dir, img_name)\n",
    "            # Preprocess image\n",
    "            image = preprocess_image(img_path)\n",
    "            images.append(image)\n",
    "            # Append the corresponding label (0 for non_food, 1 for food)\n",
    "            labels.append(1 if label == 'food' else 0)\n",
    "    \n",
    "    # Convert to numpy arrays\n",
    "    images = np.array(images)\n",
    "    labels = np.array(labels)\n",
    "    return images, labels\n",
    "\n"
   ]
  },
  {
   "cell_type": "code",
   "execution_count": 8,
   "metadata": {},
   "outputs": [],
   "source": [
    "# Load training, validation, and evaluation data\n",
    "X_train, y_train = prepare_dataset(train_dir)\n",
    "X_val, y_val = prepare_dataset(val_dir)\n",
    "X_eval, y_eval = prepare_dataset(eval_dir)"
   ]
  },
  {
   "cell_type": "code",
   "execution_count": 9,
   "metadata": {},
   "outputs": [],
   "source": [
    "# One-hot encode the labels\n",
    "y_train = to_categorical(y_train, num_classes=2)\n",
    "y_val = to_categorical(y_val, num_classes=2)\n",
    "y_eval = to_categorical(y_eval, num_classes=2)"
   ]
  },
  {
   "cell_type": "code",
   "execution_count": 10,
   "metadata": {},
   "outputs": [],
   "source": [
    "\n",
    "# Define the model using a pre-trained VGG16 model for feature extraction\n",
    "base_model = VGG16(weights='imagenet', include_top=False, input_shape=(224, 224, 3))"
   ]
  },
  {
   "cell_type": "code",
   "execution_count": 11,
   "metadata": {},
   "outputs": [],
   "source": [
    "# Freeze the layers of the pre-trained model to avoid retraining them\n",
    "base_model.trainable = False"
   ]
  },
  {
   "cell_type": "code",
   "execution_count": 12,
   "metadata": {},
   "outputs": [],
   "source": [
    "# Build the complete model\n",
    "model = Sequential([\n",
    "    base_model,  # Add the pre-trained model\n",
    "    GlobalAveragePooling2D(),  # Pooling layer to reduce spatial dimensions\n",
    "    Dense(256, activation='relu'),  # Fully connected layer with ReLU activation\n",
    "    Dense(2, activation='softmax')  # Output layer with softmax for binary classification (food vs. non_food)\n",
    "])"
   ]
  },
  {
   "cell_type": "code",
   "execution_count": 13,
   "metadata": {},
   "outputs": [],
   "source": [
    "# Compile the model with Adam optimizer and categorical cross-entropy loss\n",
    "model.compile(optimizer=Adam(), loss='categorical_crossentropy', metrics=['accuracy'])\n"
   ]
  },
  {
   "cell_type": "code",
   "execution_count": 14,
   "metadata": {},
   "outputs": [
    {
     "name": "stdout",
     "output_type": "stream",
     "text": [
      "Model: \"sequential\"\n",
      "_________________________________________________________________\n",
      " Layer (type)                Output Shape              Param #   \n",
      "=================================================================\n",
      " vgg16 (Functional)          (None, 7, 7, 512)         14714688  \n",
      "                                                                 \n",
      " global_average_pooling2d (G  (None, 512)              0         \n",
      " lobalAveragePooling2D)                                          \n",
      "                                                                 \n",
      " dense (Dense)               (None, 256)               131328    \n",
      "                                                                 \n",
      " dense_1 (Dense)             (None, 2)                 514       \n",
      "                                                                 \n",
      "=================================================================\n",
      "Total params: 14,846,530\n",
      "Trainable params: 131,842\n",
      "Non-trainable params: 14,714,688\n",
      "_________________________________________________________________\n"
     ]
    }
   ],
   "source": [
    "# Print the model summary to check the architecture\n",
    "model.summary()"
   ]
  },
  {
   "cell_type": "code",
   "execution_count": 15,
   "metadata": {},
   "outputs": [
    {
     "name": "stdout",
     "output_type": "stream",
     "text": [
      "94/94 [==============================] - 1248s 13s/step - loss: 0.3181 - accuracy: 0.8647 - val_loss: 0.1702 - val_accuracy: 0.9390\n"
     ]
    }
   ],
   "source": [
    "# Train the model\n",
    "history = model.fit(X_train, y_train, epochs=1, batch_size=32, validation_data=(X_val, y_val))\n"
   ]
  },
  {
   "cell_type": "code",
   "execution_count": 16,
   "metadata": {},
   "outputs": [
    {
     "name": "stdout",
     "output_type": "stream",
     "text": [
      "32/32 [==============================] - 125s 4s/step - loss: 0.2007 - accuracy: 0.9220\n",
      "Evaluation Loss: 0.20066525042057037\n",
      "Evaluation Accuracy: 0.921999990940094\n"
     ]
    }
   ],
   "source": [
    "# Evaluate the model on the evaluation data\n",
    "val_loss, val_accuracy = model.evaluate(X_eval, y_eval)\n",
    "print(f\"Evaluation Loss: {val_loss}\")\n",
    "print(f\"Evaluation Accuracy: {val_accuracy}\")"
   ]
  },
  {
   "cell_type": "code",
   "execution_count": 17,
   "metadata": {},
   "outputs": [],
   "source": [
    "# Optionally, save the trained model\n",
    "model.save('food_non_food_classification_model.h5')\n"
   ]
  },
  {
   "cell_type": "code",
   "execution_count": 18,
   "metadata": {},
   "outputs": [
    {
     "data": {
      "image/png": "[encoded data removed]",
      "text/plain": [
       "<Figure size 640x480 with 1 Axes>"
      ]
     },
     "metadata": {},
     "output_type": "display_data"
    }
   ],
   "source": [
    "# Optionally, you can visualize the training progress (loss, accuracy) during training\n",
    "import matplotlib.pyplot as plt\n",
    "\n",
    "# Plot the training and validation accuracy\n",
    "plt.plot(history.history['accuracy'], label='Train Accuracy')\n",
    "plt.plot(history.history['val_accuracy'], label='Validation Accuracy')\n",
    "plt.xlabel('Epochs')\n",
    "plt.ylabel('Accuracy')\n",
    "plt.legend()\n",
    "plt.show()"
   ]
  },
  {
   "cell_type": "code",
   "execution_count": 19,
   "metadata": {},
   "outputs": [
    {
     "data": {
      "image/png": "[encoded data removed]",
      "text/plain": [
       "<Figure size 640x480 with 1 Axes>"
      ]
     },
     "metadata": {},
     "output_type": "display_data"
    }
   ],
   "source": [
    "# Plot the training and validation loss\n",
    "plt.plot(history.history['loss'], label='Train Loss')\n",
    "plt.plot(history.history['val_loss'], label='Validation Loss')\n",
    "plt.xlabel('Epochs')\n",
    "plt.ylabel('Loss')\n",
    "plt.legend()\n",
    "plt.show()"
   ]
  }
 ],
 "metadata": {
  "kernelspec": {
   "display_name": "Python 3",
   "language": "python",
   "name": "python3"
  },
  "language_info": {
   "codemirror_mode": {
    "name": "ipython",
    "version": 3
   },
   "file_extension": ".py",
   "mimetype": "text/x-python",
   "name": "python",
   "nbconvert_exporter": "python",
   "pygments_lexer": "ipython3",
   "version": "3.10.9"
  }
 },
 "nbformat": 4,
 "nbformat_minor": 2
}
